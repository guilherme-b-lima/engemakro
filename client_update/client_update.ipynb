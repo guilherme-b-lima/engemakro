{
 "cells": [
  {
   "cell_type": "code",
   "execution_count": 1,
   "metadata": {},
   "outputs": [],
   "source": [
    "import pandas as pd\n",
    "from pathlib import Path"
   ]
  },
  {
   "cell_type": "code",
   "execution_count": 5,
   "metadata": {},
   "outputs": [],
   "source": [
    "filepath_source = \"input/source.xlsx\"\n",
    "source_df = pd.read_excel(filepath_source, header=0)"
   ]
  },
  {
   "cell_type": "code",
   "execution_count": null,
   "metadata": {},
   "outputs": [],
   "source": [
    "source_df"
   ]
  },
  {
   "cell_type": "code",
   "execution_count": 6,
   "metadata": {},
   "outputs": [],
   "source": [
    "filepath_destination = \"input/destination.xlsx\"\n",
    "destination_df = pd.read_excel(filepath_destination, header=0)"
   ]
  },
  {
   "cell_type": "code",
   "execution_count": null,
   "metadata": {},
   "outputs": [],
   "source": [
    "destination_df"
   ]
  },
  {
   "cell_type": "code",
   "execution_count": 7,
   "metadata": {},
   "outputs": [],
   "source": [
    "for row in source_df[['Nome', 'Segmento']].itertuples():\n",
    "    found = destination_df[destination_df['Empresa'] == getattr(row, 'Nome')]\n",
    "    if not found.empty: \n",
    "        segmento = row.Segmento\n",
    "        destination_df.loc[found.index, 'Observacoes'] = segmento"
   ]
  },
  {
   "cell_type": "code",
   "execution_count": 9,
   "metadata": {},
   "outputs": [],
   "source": [
    "Path('output').mkdir(parents=True, exist_ok=True)\n",
    "destination_df.to_excel(\"output/output.xlsx\")"
   ]
  }
 ],
 "metadata": {
  "kernelspec": {
   "display_name": "base",
   "language": "python",
   "name": "python3"
  },
  "language_info": {
   "codemirror_mode": {
    "name": "ipython",
    "version": 3
   },
   "file_extension": ".py",
   "mimetype": "text/x-python",
   "name": "python",
   "nbconvert_exporter": "python",
   "pygments_lexer": "ipython3",
   "version": "3.8.8"
  },
  "orig_nbformat": 4,
  "vscode": {
   "interpreter": {
    "hash": "97b55226c8b002c1668ac89ca6896d09c92bb0c67cffae5a01a1621156d3ab75"
   }
  }
 },
 "nbformat": 4,
 "nbformat_minor": 2
}
