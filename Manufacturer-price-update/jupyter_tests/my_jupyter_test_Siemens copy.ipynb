{
 "cells": [
  {
   "cell_type": "code",
   "execution_count": 2,
   "metadata": {},
   "outputs": [],
   "source": [
    "import pandas as pd\n",
    "from pathlib import Path"
   ]
  },
  {
   "cell_type": "code",
   "execution_count": 3,
   "metadata": {},
   "outputs": [],
   "source": [
    "# Selecting Siemens pricing list path\n",
    "# filepath_1 = input(\"Digite o caminho da lista de preços da Siemens: \"\n",
    "filepath_1 = \"C:/Users/jamir/OneDrive/Área de Trabalho/Scripts/Manufacturer-price-update/spreadsheets/Siemens/2019_01_lista_PV.xlsx\"\n",
    "# Creating origin dataframe from Siemens pricing list, with headers starting at row 4.\n",
    "source_df = pd.read_excel(filepath_1, header=4)\n",
    "\n",
    "# Renaming the pricing and discount code columnn from source_df, to make it easier to work with\n",
    "source_df.rename(columns={'Preço líquido':'Price'}, inplace=True)\n",
    "source_df.rename(columns={'Grupo de material 2':'gdm2'}, inplace=True)"
   ]
  },
  {
   "cell_type": "code",
   "execution_count": 4,
   "metadata": {},
   "outputs": [],
   "source": [
    "# Selecting agile software exported pricing list\n",
    "# filepath_2 = input(\"Digite o caminho da lista a ser precificada: \")\n",
    "filepath_2 = \"C:/Users/jamir/OneDrive/Área de Trabalho/Scripts/Manufacturer-price-update/spreadsheets/Siemens/SIEMENS-Banco dados 18-10-22 sem desconto.xlsx\"\n",
    "# Creating destination dataframe from exported pricing list, with headers starting at row 0.\n",
    "dest_df = pd.read_excel(filepath_2, header=0, index_col=\"ID\")"
   ]
  },
  {
   "cell_type": "code",
   "execution_count": 5,
   "metadata": {},
   "outputs": [],
   "source": [
    "# Selecting Siemens discount excel file\n",
    "# filepath_3 = input(\"Digite o caminho da lista de descontos ABB: \")\n",
    "filepath_3 = \"C:/Users/jamir/OneDrive/Área de Trabalho/Scripts/Manufacturer-price-update/spreadsheets/Siemens/RelatorioDescontosCliente ENGEMAKRO 2016_2017.xlsx\"\n",
    "disc_df = pd.read_excel(filepath_3, header=0)"
   ]
  },
  {
   "cell_type": "code",
   "execution_count": 5,
   "metadata": {},
   "outputs": [],
   "source": [
    "# Iterates over source_df, finding the component code in dest_df, then finding the discount code in disc_df, \n",
    "# then applying the respective multiplier\n",
    "\n",
    "for row in source_df[['Material', 'Price', 'gdm2']].itertuples(): # tuple iteration (iterates the rows of the selected columns)\n",
    "    found_1 = dest_df[dest_df['Codigo'] == getattr(row, 'Material')] # creates a pandas series containing boolean if a matching code was found\n",
    "    if not found_1.empty: \n",
    "        price = row.Price # price variable receives the component price from source_df \n",
    "        if isinstance(price, str):\n",
    "            price = 0\n",
    "        found_2 = disc_df[disc_df['Grp_Mat_2'] == getattr(row, 'gdm2')]\n",
    "        if not found_2.empty:\n",
    "            price *= found_2.iloc[0]['Multiplicador'] # multiplicando in place o price pesquisar iloc\n",
    "        dest_df.loc[found_1.index, 'Preço'] = price"
   ]
  },
  {
   "cell_type": "code",
   "execution_count": 7,
   "metadata": {},
   "outputs": [],
   "source": [
    "Path('output').mkdir(parents=True, exist_ok=True)\n",
    "dest_df.to_excel(\"output\\Output_Siemens.xlsx\")"
   ]
  }
 ],
 "metadata": {
  "kernelspec": {
   "display_name": "Python 3.10.6 ('env1')",
   "language": "python",
   "name": "python3"
  },
  "language_info": {
   "codemirror_mode": {
    "name": "ipython",
    "version": 3
   },
   "file_extension": ".py",
   "mimetype": "text/x-python",
   "name": "python",
   "nbconvert_exporter": "python",
   "pygments_lexer": "ipython3",
   "version": "3.10.6"
  },
  "orig_nbformat": 4,
  "vscode": {
   "interpreter": {
    "hash": "0da77f2dc0e0f012c7dfe2b0ca6c09343197dfe0743de14b72592d1912f973c5"
   }
  }
 },
 "nbformat": 4,
 "nbformat_minor": 2
}
