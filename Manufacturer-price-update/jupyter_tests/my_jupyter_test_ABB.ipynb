{
 "cells": [
  {
   "cell_type": "code",
   "execution_count": 1,
   "metadata": {},
   "outputs": [],
   "source": [
    "# Importing Pandas and Pathlib\n",
    "# Remember that Pandas dataframes start row/colum count at 0, as opposed to excel that starts at 1;\n",
    "\n",
    "import pandas as pd\n",
    "from pathlib import Path"
   ]
  },
  {
   "cell_type": "code",
   "execution_count": 5,
   "metadata": {},
   "outputs": [],
   "source": [
    "# Selecting ABB pricing list path\n",
    "# filepath_1 = input(\"Digite o caminho da lista de preços da ABB: \"\n",
    "filepath_1 = \"C:/Users/jamir/OneDrive/Área de Trabalho/Scripts/Manufacturer-price-update/spreadsheets/ABB/Oficial Lista de Preços Setembro 22.xlsx\"\n",
    "# Creating origin dataframe from ABB pricing list, with headers starting at row 2, and setting up \"Item\" column as the index.\n",
    "source_df = pd.read_excel(filepath_1, header=2, index_col=\"Item\")\n",
    "\n",
    "# Renaming the pricing column from source_df, to make it easier to work with\n",
    "source_df.rename(columns={'Lista de  Preços':'Price'}, inplace=True)\n",
    "\n",
    "# Selecting agile software exported pricing list\n",
    "# filepath_2 = input(\"Digite o caminho da lista a ser precificada: \")\n",
    "# filepath_2 = \"./spreadsheets/ABB/ABB-Banco Dados 12-10-2022.xlsx\"\n",
    "dest_df = pd.read_excel(\"C:/Users/jamir/OneDrive/Área de Trabalho/Scripts/Manufacturer-price-update/spreadsheets/ABB/ABB-Banco Dados 12-10-2022.xlsx\", header=0, index_col=\"ID\")\n",
    "\n",
    "# Selecting ABB discount excel file\n",
    "# filepath_3 = input(\"Digite o caminho da lista de descontos ABB: \")\n",
    "# filepath_3 = \"./spreadsheets/ABB/Desconto ABB.xlsx\"\n",
    "disc_df = pd.read_excel(\"C:/Users/jamir/OneDrive/Área de Trabalho/Scripts/Manufacturer-price-update/spreadsheets/ABB/Desconto ABB.xlsx\", header=0)"
   ]
  },
  {
   "cell_type": "code",
   "execution_count": null,
   "metadata": {},
   "outputs": [],
   "source": [
    "# Iterates over source_df, finding the component code in dest_df, then finding the GFD code (discount) in disc_df, \n",
    "# then applying the respective multiplier\n",
    "\n",
    "for row in source_df[['Código', 'Price', 'GFD']].itertuples(): # tuple iteration (iterates the rows of the selected columns)\n",
    "    found_1 = dest_df[dest_df['Codigo'] == getattr(row, 'Código')] # creates a pandas series containing boolean if a matching code was found\n",
    "    if not found_1.empty: \n",
    "        price = row.Price # price variable receives the component price from source_df \n",
    "        if isinstance(price, str):\n",
    "            price = 0\n",
    "        found_2 = disc_df[disc_df['Code'] == getattr(row, 'GFD')]\n",
    "        if not found_2.empty:\n",
    "            price *= found_2.iloc[0]['Multiplier'] # multiplicando in place o price pesquisar iloc\n",
    "        dest_df.loc[found_1.index, 'Preço'] = price"
   ]
  },
  {
   "cell_type": "code",
   "execution_count": null,
   "metadata": {},
   "outputs": [],
   "source": [
    "\n",
    "Path('output').mkdir(parents=True, exist_ok=True)\n",
    "dest_df.to_excel(\"output\\Output.xlsx\")"
   ]
  }
 ],
 "metadata": {
  "kernelspec": {
   "display_name": "Python 3.10.6 ('env1')",
   "language": "python",
   "name": "python3"
  },
  "language_info": {
   "codemirror_mode": {
    "name": "ipython",
    "version": 3
   },
   "file_extension": ".py",
   "mimetype": "text/x-python",
   "name": "python",
   "nbconvert_exporter": "python",
   "pygments_lexer": "ipython3",
   "version": "3.10.6"
  },
  "orig_nbformat": 4,
  "vscode": {
   "interpreter": {
    "hash": "0da77f2dc0e0f012c7dfe2b0ca6c09343197dfe0743de14b72592d1912f973c5"
   }
  }
 },
 "nbformat": 4,
 "nbformat_minor": 2
}
